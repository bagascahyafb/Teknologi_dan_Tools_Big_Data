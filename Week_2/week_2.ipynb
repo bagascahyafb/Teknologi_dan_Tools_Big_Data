{
 "cells": [
  {
   "cell_type": "markdown",
   "metadata": {},
   "source": [
    "### Import Library"
   ]
  },
  {
   "cell_type": "code",
   "execution_count": 35,
   "metadata": {},
   "outputs": [],
   "source": [
    "import pandas as pd\n",
    "from sqlalchemy import create_engine\n",
    "from sqlalchemy.ext.declarative import declarative_base\n",
    "from sqlalchemy.orm import sessionmaker\n",
    "from sqlalchemy import Column, Integer, String"
   ]
  },
  {
   "cell_type": "markdown",
   "metadata": {},
   "source": [
    "### Read File CSV"
   ]
  },
  {
   "cell_type": "code",
   "execution_count": 18,
   "metadata": {},
   "outputs": [
    {
     "data": {
      "text/html": [
       "<div>\n",
       "<style scoped>\n",
       "    .dataframe tbody tr th:only-of-type {\n",
       "        vertical-align: middle;\n",
       "    }\n",
       "\n",
       "    .dataframe tbody tr th {\n",
       "        vertical-align: top;\n",
       "    }\n",
       "\n",
       "    .dataframe thead th {\n",
       "        text-align: right;\n",
       "    }\n",
       "</style>\n",
       "<table border=\"1\" class=\"dataframe\">\n",
       "  <thead>\n",
       "    <tr style=\"text-align: right;\">\n",
       "      <th></th>\n",
       "      <th>Responden</th>\n",
       "      <th>Jenis</th>\n",
       "      <th>Skor</th>\n",
       "    </tr>\n",
       "  </thead>\n",
       "  <tbody>\n",
       "    <tr>\n",
       "      <th>0</th>\n",
       "      <td>1</td>\n",
       "      <td>1</td>\n",
       "      <td>78</td>\n",
       "    </tr>\n",
       "    <tr>\n",
       "      <th>1</th>\n",
       "      <td>2</td>\n",
       "      <td>1</td>\n",
       "      <td>87</td>\n",
       "    </tr>\n",
       "    <tr>\n",
       "      <th>2</th>\n",
       "      <td>3</td>\n",
       "      <td>1</td>\n",
       "      <td>89</td>\n",
       "    </tr>\n",
       "    <tr>\n",
       "      <th>3</th>\n",
       "      <td>4</td>\n",
       "      <td>1</td>\n",
       "      <td>79</td>\n",
       "    </tr>\n",
       "    <tr>\n",
       "      <th>4</th>\n",
       "      <td>5</td>\n",
       "      <td>1</td>\n",
       "      <td>77</td>\n",
       "    </tr>\n",
       "  </tbody>\n",
       "</table>\n",
       "</div>"
      ],
      "text/plain": [
       "   Responden  Jenis  Skor\n",
       "0          1      1    78\n",
       "1          2      1    87\n",
       "2          3      1    89\n",
       "3          4      1    79\n",
       "4          5      1    77"
      ]
     },
     "execution_count": 18,
     "metadata": {},
     "output_type": "execute_result"
    }
   ],
   "source": [
    "file_CSV = pd.read_csv('D:/Kuliah/Semester 5/TEKNOLOGI_DAN_TOOLS_BIG_DATA/Dataset/data_friedman.csv')\n",
    "file_CSV.head(5)"
   ]
  },
  {
   "cell_type": "markdown",
   "metadata": {},
   "source": [
    "### Read File Json"
   ]
  },
  {
   "cell_type": "code",
   "execution_count": 20,
   "metadata": {},
   "outputs": [
    {
     "data": {
      "text/html": [
       "<div>\n",
       "<style scoped>\n",
       "    .dataframe tbody tr th:only-of-type {\n",
       "        vertical-align: middle;\n",
       "    }\n",
       "\n",
       "    .dataframe tbody tr th {\n",
       "        vertical-align: top;\n",
       "    }\n",
       "\n",
       "    .dataframe thead th {\n",
       "        text-align: right;\n",
       "    }\n",
       "</style>\n",
       "<table border=\"1\" class=\"dataframe\">\n",
       "  <thead>\n",
       "    <tr style=\"text-align: right;\">\n",
       "      <th></th>\n",
       "      <th>shoppingList</th>\n",
       "    </tr>\n",
       "  </thead>\n",
       "  <tbody>\n",
       "    <tr>\n",
       "      <th>groceries</th>\n",
       "      <td>[{'item': 'Apples', 'quantity': 3, 'unit': 'lb...</td>\n",
       "    </tr>\n",
       "    <tr>\n",
       "      <th>householdItems</th>\n",
       "      <td>[{'item': 'Paper Towels', 'quantity': 4, 'unit...</td>\n",
       "    </tr>\n",
       "    <tr>\n",
       "      <th>personalCare</th>\n",
       "      <td>[{'item': 'Toothpaste', 'quantity': 2, 'unit':...</td>\n",
       "    </tr>\n",
       "  </tbody>\n",
       "</table>\n",
       "</div>"
      ],
      "text/plain": [
       "                                                     shoppingList\n",
       "groceries       [{'item': 'Apples', 'quantity': 3, 'unit': 'lb...\n",
       "householdItems  [{'item': 'Paper Towels', 'quantity': 4, 'unit...\n",
       "personalCare    [{'item': 'Toothpaste', 'quantity': 2, 'unit':..."
      ]
     },
     "execution_count": 20,
     "metadata": {},
     "output_type": "execute_result"
    }
   ],
   "source": [
    "file_JSON = pd.read_json('D:/Kuliah/Semester 5/TEKNOLOGI_DAN_TOOLS_BIG_DATA/Dataset/sample2.json')\n",
    "file_JSON"
   ]
  },
  {
   "cell_type": "markdown",
   "metadata": {},
   "source": [
    "### Read File API"
   ]
  },
  {
   "cell_type": "code",
   "execution_count": 21,
   "metadata": {},
   "outputs": [
    {
     "name": "stdout",
     "output_type": "stream",
     "text": [
      "Note: you may need to restart the kernel to use updated packages.\n"
     ]
    },
    {
     "name": "stderr",
     "output_type": "stream",
     "text": [
      "ERROR: Could not find a version that satisfies the requirement request (from versions: none)\n",
      "ERROR: No matching distribution found for request\n",
      "\n",
      "[notice] A new release of pip is available: 24.0 -> 24.2\n",
      "[notice] To update, run: python.exe -m pip install --upgrade pip\n"
     ]
    }
   ],
   "source": [
    "pip install request"
   ]
  },
  {
   "cell_type": "code",
   "execution_count": 26,
   "metadata": {},
   "outputs": [
    {
     "data": {
      "text/plain": [
       "{'userId': 1, 'id': 1, 'title': 'delectus aut autem', 'completed': False}"
      ]
     },
     "execution_count": 26,
     "metadata": {},
     "output_type": "execute_result"
    }
   ],
   "source": [
    "import requests\n",
    "api_url = \"https://jsonplaceholder.typicode.com/todos/1\"\n",
    "response = requests.get(api_url)\n",
    "response.json()"
   ]
  },
  {
   "cell_type": "markdown",
   "metadata": {},
   "source": [
    "### Read File Databases"
   ]
  },
  {
   "cell_type": "code",
   "execution_count": 34,
   "metadata": {},
   "outputs": [
    {
     "name": "stdout",
     "output_type": "stream",
     "text": [
      "customerid: 1001, fname: John, lname: Doe, address: 123 Main Street, email: john@example.com, phone: 123-456-7890\n",
      "customerid: 1002, fname: Jane, lname: Smith, address: 456 Oak Avenue, email: jane@example.com, phone: 987-654-3210\n",
      "customerid: 1003, fname: Michael, lname: Johnson, address: 789 Elm Road, email: michael@example.com, phone: 555-123-4567\n",
      "customerid: 1004, fname: Emily, lname: Brown, address: 321 Pine Lane, email: emily@example.com, phone: 222-333-4444\n",
      "customerid: 1005, fname: David, lname: Martinez, address: 567 Cedar Court, email: david@example.com, phone: 777-888-9999\n",
      "customerid: 1006, fname: Sarah, lname: Anderson, address: 890 Birch Street, email: sarah@example.com, phone: 111-222-3333\n",
      "customerid: 1007, fname: Christopher, lname: Wilson, address: 432 Maple Drive, email: christopher@example.com, phone: 444-555-6666\n",
      "customerid: 1008, fname: Amanda, lname: Taylor, address: 876 Walnut Avenue, email: amanda@example.com, phone: 999-888-7777\n",
      "customerid: 1009, fname: James, lname: Thomas, address: 654 Sycamore Lane, email: james@example.com, phone: 666-555-4444\n",
      "customerid: 1010, fname: Jessica, lname: Lee, address: 987 Ash Street, email: jessica@example.com, phone: 333-222-1111\n",
      "customerid: 1011, fname: Daniel, lname: Garcia, address: 234 Pinecrest Road, email: daniel@example.com, phone: 777-999-1111\n",
      "customerid: 1012, fname: Laura, lname: Hernandez, address: 543 Willow Lane, email: laura@example.com, phone: 555-444-3333\n",
      "customerid: 1013, fname: Matthew, lname: Young, address: 876 Birch Street, email: matthew@example.com, phone: 111-333-5555\n",
      "customerid: 1014, fname: Lauren, lname: Lopez, address: 123 Cedar Avenue, email: lauren@example.com, phone: 888-777-6666\n",
      "customerid: 1015, fname: Ryan, lname: King, address: 678 Elm Drive, email: ryan@example.com, phone: 222-444-6666\n",
      "customerid: 1016, fname: Taylor, lname: Scott, address: 234 Maple Street, email: taylor@example.com, phone: 999-888-7777\n",
      "customerid: 1017, fname: Ashley, lname: Green, address: 789 Oak Lane, email: ashley@example.com, phone: 333-555-7777\n",
      "customerid: 1018, fname: Kevin, lname: Adams, address: 345 Birch Road, email: kevin@example.com, phone: 444-666-8888\n",
      "customerid: 1019, fname: Brittany, lname: Campbell, address: 567 Pine Avenue, email: brittany@example.com, phone: 777-999-3333\n",
      "customerid: 1020, fname: Eric, lname: Torres, address: 890 Cedar Lane, email: eric@example.com, phone: 222-111-3333\n",
      "customerid: 1021, fname: Bagas, lname: Bastian, address: Sepat Binangun, email: bagas@example.com, phone: 123-456-7890\n"
     ]
    }
   ],
   "source": [
    "username = 'postgres'\n",
    "password = 'Dynamic01:'\n",
    "host = 'localhost'\n",
    "port = '5432'\n",
    "database = 'CRM'\n",
    "\n",
    "engine = create_engine(f'postgresql+psycopg2://{username}:{password}@{host}:{port}/{database}')\n",
    "\n",
    "Base = declarative_base()\n",
    "\n",
    "class MyTable(Base):\n",
    "    __tablename__ = 'customer'\n",
    "    customerid = Column(String, primary_key=True)\n",
    "    fname = Column(String)\n",
    "    lname = Column(String)\n",
    "    address = Column(String)\n",
    "    email = Column(String)\n",
    "    phone = Column(Integer)\n",
    "\n",
    "Session = sessionmaker(bind=engine)\n",
    "session = Session()\n",
    "\n",
    "results = session.query(MyTable).all()\n",
    "results\n",
    "\n",
    "for row in results:\n",
    "    print(f'customerid: {row.customerid}, fname: {row.fname}, lname: {row.lname}, address: {row.address}, email: {row.email}, phone: {row.phone}')"
   ]
  }
 ],
 "metadata": {
  "kernelspec": {
   "display_name": "Python 3",
   "language": "python",
   "name": "python3"
  },
  "language_info": {
   "codemirror_mode": {
    "name": "ipython",
    "version": 3
   },
   "file_extension": ".py",
   "mimetype": "text/x-python",
   "name": "python",
   "nbconvert_exporter": "python",
   "pygments_lexer": "ipython3",
   "version": "3.11.0"
  }
 },
 "nbformat": 4,
 "nbformat_minor": 2
}
